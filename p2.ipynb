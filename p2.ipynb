{
 "cells": [
  {
   "cell_type": "code",
   "execution_count": null,
   "id": "5517ddb9",
   "metadata": {},
   "outputs": [],
   "source": [
    "import pandas as pd\n",
    "import matplotlib.pyplot as plt\n",
    "import seaborn as sns"
   ]
  },
  {
   "cell_type": "code",
   "execution_count": null,
   "id": "6ca0f28b",
   "metadata": {},
   "outputs": [],
   "source": [
    "econ_df = pd.read_csv('economy-and-growth.csv')\n",
    "econ_df"
   ]
  },
  {
   "cell_type": "code",
   "execution_count": null,
   "id": "018ad0a5",
   "metadata": {},
   "outputs": [],
   "source": [
    "econ_grp = econ_df.groupby(['Country Name', 'Year'])['average_value_GDP (constant LCU)'].mean()\n",
    "us_gdp = econ_grp.loc['United States']"
   ]
  },
  {
   "cell_type": "code",
   "execution_count": null,
   "id": "2e82c07b",
   "metadata": {},
   "outputs": [],
   "source": [
    "econ_df['gdp_growth_rate'] = econ_df.groupby('Country Name')['average_value_GDP (constant LCU)'].pct_change() * 100"
   ]
  },
  {
   "cell_type": "code",
   "execution_count": null,
   "id": "a604d309",
   "metadata": {},
   "outputs": [],
   "source": [
    "top_countries = econ_df.dropna(subset=['average_value_GDP (constant LCU)']).groupby('Country Name')['average_value_GDP (constant LCU)'].last().nlargest(10).index\n",
    "heatmap_data = econ_df[econ_df['Country Name'].isin(top_countries)].pivot_table(\n",
    "    index='Country Name', \n",
    "    columns='Year', \n",
    "    values='gdp_growth_rate'\n",
    ")"
   ]
  },
  {
   "cell_type": "code",
   "execution_count": null,
   "id": "aa466634",
   "metadata": {},
   "outputs": [],
   "source": [
    "sns.boxplot(\n",
    "    data=econ_df.dropna(subset=['gdp_growth_rate']),\n",
    "    x='Country Name', \n",
    "    y='gdp_growth_rate',\n",
    "    showfliers=False,\n",
    "    order=econ_df.groupby('Country Name')['gdp_growth_rate'].median().sort_values(ascending=False).index[:10]  # Top 10 by median growth\n",
    ")\n",
    "plt.xticks(rotation=90)\n",
    "plt.axhline(0, color='red', linestyle='--')\n",
    "plt.title('GDP Growth Rate Distribution (Top 10 Countries)')"
   ]
  },
  {
   "cell_type": "code",
   "execution_count": null,
   "id": "da7a8b09",
   "metadata": {},
   "outputs": [],
   "source": [
    "plt.figure(figsize=(12, 6))\n",
    "plt.plot(us_gdp.index, us_gdp.values, color='#1f77b4', marker='o', linestyle='-', linewidth=2)\n",
    "plt.title('United States GDP (Constant LCU) Over Time', fontsize=14, pad=20)\n",
    "plt.xlabel('Year', fontsize=12)\n",
    "plt.ylabel('GDP (Constant LCU)', fontsize=12)\n",
    "plt.grid(True, linestyle='--', alpha=0.7)\n",
    "plt.xticks(rotation=45)\n",
    "plt.tight_layout()\n",
    "plt.show()"
   ]
  },
  {
   "cell_type": "code",
   "execution_count": null,
   "id": "ff8be6d6",
   "metadata": {},
   "outputs": [],
   "source": [
    "countries = ['United States', 'China', 'India', 'Canada']\n",
    "for country in countries:\n",
    "    subset = econ_df[econ_df['Country Name'] == country]\n",
    "    plt.plot(subset['Year'], subset['average_value_GDP (constant LCU)'], label=country)\n",
    "plt.legend()"
   ]
  },
  {
   "cell_type": "code",
   "execution_count": null,
   "id": "3d15d7f6",
   "metadata": {},
   "outputs": [],
   "source": [
    "pivot = econ_df.pivot_table(index='Country Name', columns='Year', values='gdp_growth_rate')\n",
    "sns.heatmap(pivot, cmap='RdYlGn', center=0)"
   ]
  },
  {
   "cell_type": "code",
   "execution_count": null,
   "id": "6641961b",
   "metadata": {},
   "outputs": [],
   "source": [
    "sns.regplot(\n",
    "    data=econ_df, \n",
    "    x='average_value_GDP (current LCU)', \n",
    "    y='average_value_Net primary income (Net income from abroad) (current LCU)'\n",
    ")"
   ]
  },
  {
   "cell_type": "code",
   "execution_count": null,
   "id": "bebc1b5f",
   "metadata": {},
   "outputs": [],
   "source": [
    "sns.lineplot(\n",
    "    data=econ_df[econ_df['Country Name'] == 'United States'],\n",
    "    x='Year', \n",
    "    y='average_value_GDP per capita growth (annual %)'\n",
    ")\n",
    "plt.axhline(0, color='red', linestyle='--')"
   ]
  },
  {
   "cell_type": "code",
   "execution_count": null,
   "id": "8a8a7083",
   "metadata": {},
   "outputs": [],
   "source": [
    "sns.relplot(\n",
    "    data=econ_df[econ_df['Country Name'].isin(['United States', 'China', 'India'])],\n",
    "    x='Year', \n",
    "    y='average_value_GDP, PPP (current international $)',\n",
    "    hue='Country Name', \n",
    "    kind='line'\n",
    ")"
   ]
  },
  {
   "cell_type": "markdown",
   "id": "3b9929be",
   "metadata": {},
   "source": [
    "Possible Proposition : Look deeper into purchasing power parity between CHINA, INDIA, USA. Graph above shows China to be highest in GDP with Purchasing Power Parity accounted for, however in raw GDP growth INDIA is shown to be exponentially above any country"
   ]
  },
  {
   "cell_type": "markdown",
   "id": "8f04f041",
   "metadata": {},
   "source": [
    "Stanced Concrete Proposition : Indias rapid GDP growth will soon overshadow China's and the US economic dominance"
   ]
  },
  {
   "cell_type": "markdown",
   "id": "00d26c9f",
   "metadata": {},
   "source": [
    "Pro Proposition Visualizations (Deceptive towards proposition)"
   ]
  },
  {
   "cell_type": "code",
   "execution_count": null,
   "id": "9f80d91a",
   "metadata": {},
   "outputs": [],
   "source": [
    "countries = ['China', 'India', 'United States']\n",
    "df_filtered = econ_df[econ_df['Country Name'].isin(countries)]\n"
   ]
  },
  {
   "cell_type": "code",
   "execution_count": null,
   "id": "6d3bcdf2",
   "metadata": {},
   "outputs": [],
   "source": [
    "plt.figure(figsize=(10, 6))\n",
    "sns.lineplot(data=df_filtered, \n",
    "             x='Year', \n",
    "             y='average_value_GDP growth (annual %)', \n",
    "             hue='Country Name',\n",
    "             linewidth=2.5)\n",
    "\n",
    "plt.ylim(4, 20)  # Truncated axis starts at 4%\n",
    "plt.title('GDP Growth Rates: India Pulling Ahead (2010-2023)', fontsize=14, pad=20)\n",
    "plt.ylabel('GDP Growth (%)', fontsize=12)\n",
    "plt.xlabel('Year', fontsize=12)\n",
    "plt.axhline(y=4, color='gray', linestyle=':', alpha=0.5)  # Highlight truncated baseline\n",
    "plt.grid(True, alpha=0.3)\n",
    "plt.legend(title='Country')\n",
    "plt.tight_layout()\n",
    "plt.show()"
   ]
  },
  {
   "cell_type": "code",
   "execution_count": null,
   "id": "cf672778",
   "metadata": {},
   "outputs": [],
   "source": [
    "timeframe_df = econ_df[\n",
    "    (econ_df['Country Name'].isin(countries)) & \n",
    "    (econ_df['Year'].between(2010, 2016))\n",
    "]\n",
    "\n",
    "\n",
    "plt.figure(figsize=(10, 6))\n",
    "\n",
    "custom_palette = {\n",
    "    'India': 'green',\n",
    "    'China': 'gray',\n",
    "    'United States': 'gray'\n",
    "}\n",
    "\n",
    "sns.lineplot(\n",
    "    data=timeframe_df,\n",
    "    x='Year',\n",
    "    y='average_value_GDP growth (annual %)',\n",
    "    hue='Country Name',\n",
    "    palette=custom_palette,\n",
    "    marker='o',\n",
    "    linewidth=2.5\n",
    ")\n",
    "\n",
    "plt.title('Post-2010 Growth: India Outperforms China and US', fontsize=14, pad=20)\n",
    "plt.ylabel('GDP Growth (%)', fontsize=12)\n",
    "plt.xlabel('Year', fontsize=12)\n",
    "plt.axhline(y=0, color='gray', linestyle=':', alpha=0.5)\n",
    "plt.grid(True, alpha=0.3)\n",
    "plt.legend(title='Country')\n",
    "plt.tight_layout()\n",
    "plt.show()"
   ]
  },
  {
   "cell_type": "code",
   "execution_count": null,
   "id": "5e0325ff",
   "metadata": {},
   "outputs": [],
   "source": [
    "sns.set_style(\"whitegrid\")\n",
    "plt.figure(figsize=(12, 6))\n",
    "\n",
    "countries = ['United States', 'China', 'India', 'Canada']\n",
    "plot_df = econ_df[econ_df['Country Name'].isin(countries)]\n",
    "\n",
    "ax = sns.lineplot(\n",
    "    data=plot_df,\n",
    "    x='Year',\n",
    "    y='average_value_GDP (constant LCU)',\n",
    "    hue='Country Name',\n",
    "    palette=['#808080', 'orange', '#A9A9A9', '#696969'],\n",
    "    marker='o',\n",
    "    markersize=8\n",
    ")\n",
    "\n",
    "plt.title('GDP Growth Comparison (1960-2020)\\nConstant LCU, Inflation-Adjusted', \n",
    "          fontsize=14, pad=20)\n",
    "plt.ylabel('GDP (Constant LCU)', fontsize=12)\n",
    "plt.xlabel('Year', fontsize=12)\n",
    "plt.yscale('log')\n",
    "\n",
    "handles, labels = ax.get_legend_handles_labels()\n",
    "ax.legend(handles=handles, \n",
    "          labels=labels,\n",
    "          title='Country',\n",
    "          frameon=True,\n",
    "          framealpha=0.9)\n",
    "\n",
    "latest_year = plot_df['Year'].max()\n",
    "for country in countries:\n",
    "    latest_value = plot_df[(plot_df['Country Name'] == country) & \n",
    "                         (plot_df['Year'] == latest_year)]['average_value_GDP (constant LCU)'].values[0]\n",
    "    ax.text(latest_year+1, latest_value, f\"{latest_value/1e14:.1f}e14\", \n",
    "            va='center', fontsize=10)\n",
    "\n",
    "plt.tight_layout()\n",
    "plt.show()"
   ]
  },
  {
   "cell_type": "markdown",
   "id": "be0bb22a",
   "metadata": {},
   "source": [
    "More neutral elements / visualizations"
   ]
  },
  {
   "cell_type": "code",
   "execution_count": null,
   "id": "65db8193",
   "metadata": {},
   "outputs": [],
   "source": [
    "sns.relplot(\n",
    "    data=econ_df[econ_df['Country Name'].isin(['United States', 'China', 'India'])],\n",
    "    x='Year', \n",
    "    y='average_value_GDP, PPP (current international $)',\n",
    "    hue='Country Name', \n",
    "    kind='line'\n",
    ")"
   ]
  },
  {
   "cell_type": "code",
   "execution_count": null,
   "id": "d69cb635",
   "metadata": {},
   "outputs": [],
   "source": [
    "import seaborn as sns\n",
    "import matplotlib.pyplot as plt\n",
    "from matplotlib.legend_handler import HandlerLine2D\n",
    "\n",
    "# Data Prep - Using GDP per capita PPP\n",
    "plot_df = econ_df[\n",
    "    (econ_df['Country Name'].isin(['China', 'India', 'United States'])) &\n",
    "    (econ_df['Year'] >= 1990)  # Cherry-picked timeframe\n",
    "].dropna(subset=['average_value_GDP per capita, PPP (current international $)'])\n",
    "\n",
    "plt.figure(figsize=(10, 6))\n",
    "sns.set_style(\"whitegrid\", {'grid.linestyle': ':', 'grid.alpha': 0.3})\n",
    "palette = {\n",
    "    'United States': '#1f77b4',  # Authoritative blue\n",
    "    'China': '#ff7f0e',         # Warning orange\n",
    "    'India': '#7f7f7f'          # Neutral gray\n",
    "}\n",
    "\n",
    "ax = sns.lineplot(\n",
    "    data=plot_df,\n",
    "    x='Year',\n",
    "    y='average_value_GDP per capita, PPP (current international $)',\n",
    "    hue='Country Name',\n",
    "    palette=palette,\n",
    "    linewidth=2.5,\n",
    "    style='Country Name',\n",
    "    dashes={'United States': (1,0), 'China': (1,0), 'India': (3,1)},  # India dashed\n",
    "    markers=False,  # Critical - avoids marker mixing error\n",
    "    estimator=None  # Show raw values, no smoothing\n",
    ")\n",
    "\n",
    "# Axis Truncation (Key deception)\n",
    "plt.ylim(1000, 70000)  # Makes India's growth look flat\n",
    "\n",
    "# Legend Manipulation\n",
    "handles, labels = ax.get_legend_handles_labels()\n",
    "# Reorder: US -> China -> India\n",
    "handles = [handles[2], handles[0], handles[1]]\n",
    "labels = [labels[2], labels[0], labels[1]]\n",
    "legend = ax.legend(\n",
    "    handles, labels,\n",
    "    title='',\n",
    "    handler_map={plt.Line2D: HandlerLine2D(numpoints=1)},\n",
    "    framealpha=0.8,\n",
    "    labelcolor=['#1f77b4', '#ff7f0e', 'gray'],  # India's label in gray\n",
    "    bbox_to_anchor=(1.02, 1)  # Push legend outside\n",
    ")\n",
    "\n",
    "# Make India's legend line less visible\n",
    "legend.legend_handles[2].set_alpha(0.5)\n",
    "legend.legend_handles[2].set_linewidth(1.5)\n",
    "\n",
    "# Strategic Annotations\n",
    "plt.text(2015, 60000, \"China's rapid convergence\", \n",
    "         color='#ff7f0e', ha='center', weight='bold')\n",
    "plt.text(2020, 2000, \"India\", \n",
    "         color='#7f7f7f', ha='right', alpha=0.7)  # Minimal label\n",
    "\n",
    "# Titles and Axis Labels\n",
    "plt.title(\"Economic Development Trajectories (1990-2020)\\nGDP per capita, PPP\", \n",
    "          fontsize=14, pad=20, loc='left')\n",
    "plt.ylabel(\"Dollars (PPP, log scale)\", fontsize=10)\n",
    "plt.xlabel(\"\")\n",
    "plt.yscale('log')  # Further flattens growth curves\n",
    "\n",
    "# Remove automatic legend and add custom\n",
    "ax.get_legend().remove()\n",
    "plt.gca().add_artist(legend)\n",
    "\n",
    "plt.tight_layout()\n",
    "plt.savefig('deceptive_gdp.png', dpi=300, bbox_inches='tight')\n",
    "plt.show()"
   ]
  },
  {
   "cell_type": "code",
   "execution_count": null,
   "id": "432bb99b",
   "metadata": {},
   "outputs": [],
   "source": []
  }
 ],
 "metadata": {
  "kernelspec": {
   "display_name": "dsc80",
   "language": "python",
   "name": "python3"
  },
  "language_info": {
   "codemirror_mode": {
    "name": "ipython",
    "version": 3
   },
   "file_extension": ".py",
   "mimetype": "text/x-python",
   "name": "python",
   "nbconvert_exporter": "python",
   "pygments_lexer": "ipython3",
   "version": "3.12.8"
  }
 },
 "nbformat": 4,
 "nbformat_minor": 5
}
