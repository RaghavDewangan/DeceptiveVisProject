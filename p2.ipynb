{
 "cells": [
  {
   "cell_type": "code",
   "execution_count": null,
   "id": "5517ddb9",
   "metadata": {},
   "outputs": [],
   "source": [
    "import pandas as pd\n",
    "import matplotlib.pyplot as plt\n",
    "import seaborn as sns"
   ]
  },
  {
   "cell_type": "code",
   "execution_count": null,
   "id": "6ca0f28b",
   "metadata": {},
   "outputs": [],
   "source": [
    "econ_df = pd.read_csv('economy-and-growth.csv')\n",
    "econ_df"
   ]
  },
  {
   "cell_type": "code",
   "execution_count": null,
   "id": "018ad0a5",
   "metadata": {},
   "outputs": [],
   "source": [
    "econ_grp = econ_df.groupby(['Country Name', 'Year'])['average_value_GDP (constant LCU)'].mean()\n",
    "us_gdp = econ_grp.loc['United States']"
   ]
  },
  {
   "cell_type": "code",
   "execution_count": null,
   "id": "2e82c07b",
   "metadata": {},
   "outputs": [],
   "source": [
    "econ_df['gdp_growth_rate'] = econ_df.groupby('Country Name')['average_value_GDP (constant LCU)'].pct_change() * 100"
   ]
  },
  {
   "cell_type": "code",
   "execution_count": null,
   "id": "a604d309",
   "metadata": {},
   "outputs": [],
   "source": [
    "top_countries = econ_df.dropna(subset=['average_value_GDP (constant LCU)']).groupby('Country Name')['average_value_GDP (constant LCU)'].last().nlargest(10).index\n",
    "heatmap_data = econ_df[econ_df['Country Name'].isin(top_countries)].pivot_table(\n",
    "    index='Country Name', \n",
    "    columns='Year', \n",
    "    values='gdp_growth_rate'\n",
    ")"
   ]
  },
  {
   "cell_type": "code",
   "execution_count": null,
   "id": "aa466634",
   "metadata": {},
   "outputs": [],
   "source": [
    "sns.boxplot(\n",
    "    data=econ_df.dropna(subset=['gdp_growth_rate']),\n",
    "    x='Country Name', \n",
    "    y='gdp_growth_rate',\n",
    "    showfliers=False,\n",
    "    order=econ_df.groupby('Country Name')['gdp_growth_rate'].median().sort_values(ascending=False).index[:10]  # Top 10 by median growth\n",
    ")\n",
    "plt.xticks(rotation=90)\n",
    "plt.axhline(0, color='red', linestyle='--')\n",
    "plt.title('GDP Growth Rate Distribution (Top 10 Countries)')"
   ]
  },
  {
   "cell_type": "code",
   "execution_count": null,
   "id": "da7a8b09",
   "metadata": {},
   "outputs": [],
   "source": [
    "plt.figure(figsize=(12, 6))\n",
    "plt.plot(us_gdp.index, us_gdp.values, color='#1f77b4', marker='o', linestyle='-', linewidth=2)\n",
    "plt.title('United States GDP (Constant LCU) Over Time', fontsize=14, pad=20)\n",
    "plt.xlabel('Year', fontsize=12)\n",
    "plt.ylabel('GDP (Constant LCU)', fontsize=12)\n",
    "plt.grid(True, linestyle='--', alpha=0.7)\n",
    "plt.xticks(rotation=45)\n",
    "plt.tight_layout()\n",
    "plt.show()"
   ]
  },
  {
   "cell_type": "code",
   "execution_count": null,
   "id": "ff8be6d6",
   "metadata": {},
   "outputs": [],
   "source": [
    "countries = ['United States', 'China', 'India', 'Canada']\n",
    "for country in countries:\n",
    "    subset = econ_df[econ_df['Country Name'] == country]\n",
    "    plt.plot(subset['Year'], subset['average_value_GDP (constant LCU)'], label=country)\n",
    "plt.legend()"
   ]
  },
  {
   "cell_type": "code",
   "execution_count": null,
   "id": "3d15d7f6",
   "metadata": {},
   "outputs": [],
   "source": [
    "pivot = econ_df.pivot_table(index='Country Name', columns='Year', values='gdp_growth_rate')\n",
    "sns.heatmap(pivot, cmap='RdYlGn', center=0)"
   ]
  },
  {
   "cell_type": "code",
   "execution_count": null,
   "id": "6641961b",
   "metadata": {},
   "outputs": [],
   "source": [
    "sns.regplot(\n",
    "    data=econ_df, \n",
    "    x='average_value_GDP (current LCU)', \n",
    "    y='average_value_Net primary income (Net income from abroad) (current LCU)'\n",
    ")"
   ]
  },
  {
   "cell_type": "code",
   "execution_count": null,
   "id": "bebc1b5f",
   "metadata": {},
   "outputs": [],
   "source": [
    "sns.lineplot(\n",
    "    data=econ_df[econ_df['Country Name'] == 'United States'],\n",
    "    x='Year', \n",
    "    y='average_value_GDP per capita growth (annual %)'\n",
    ")\n",
    "plt.axhline(0, color='red', linestyle='--')"
   ]
  },
  {
   "cell_type": "code",
   "execution_count": null,
   "id": "8a8a7083",
   "metadata": {},
   "outputs": [],
   "source": [
    "sns.relplot(\n",
    "    data=econ_df[econ_df['Country Name'].isin(['United States', 'China', 'India'])],\n",
    "    x='Year', \n",
    "    y='average_value_GDP, PPP (current international $)',\n",
    "    hue='Country Name', \n",
    "    kind='line'\n",
    ")"
   ]
  },
  {
   "cell_type": "markdown",
   "id": "3b9929be",
   "metadata": {},
   "source": [
    "Possible Proposition : Look deeper into purchasing power parity between CHINA, INDIA, USA. Graph above shows China to be highest in GDP with Purchasing Power Parity accounted for, however in raw GDP growth INDIA is shown to be exponentially above any country"
   ]
  },
  {
   "cell_type": "code",
   "execution_count": null,
   "id": "9f80d91a",
   "metadata": {},
   "outputs": [],
   "source": []
  }
 ],
 "metadata": {
  "kernelspec": {
   "display_name": "dsc80",
   "language": "python",
   "name": "python3"
  },
  "language_info": {
   "codemirror_mode": {
    "name": "ipython",
    "version": 3
   },
   "file_extension": ".py",
   "mimetype": "text/x-python",
   "name": "python",
   "nbconvert_exporter": "python",
   "pygments_lexer": "ipython3",
   "version": "3.12.8"
  }
 },
 "nbformat": 4,
 "nbformat_minor": 5
}
